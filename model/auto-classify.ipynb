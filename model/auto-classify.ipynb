{
 "cells": [
  {
   "cell_type": "code",
   "execution_count": 1,
   "metadata": {
    "scrolled": true
   },
   "outputs": [],
   "source": [
    "import os\n",
    "import pandas as pd\n",
    "import numpy as np\n",
    "from google.cloud import language_v1\n",
    "import time\n",
    "from selenium.webdriver import Chrome\n",
    "from selenium.webdriver.common.by import By\n",
    "from selenium.webdriver.common.keys import Keys\n",
    "from selenium.webdriver.support.ui import WebDriverWait\n",
    "from selenium.webdriver.support import expected_conditions as EC"
   ]
  },
  {
   "cell_type": "code",
   "execution_count": 2,
   "metadata": {},
   "outputs": [],
   "source": [
    "url = \"https://www.youtube.com/watch?v=txhlr7IUVLU\""
   ]
  },
  {
   "cell_type": "code",
   "execution_count": 3,
   "metadata": {},
   "outputs": [],
   "source": [
    "data=[]\n",
    "\n",
    "with Chrome(executable_path=r'C:\\Program Files\\chromedriver.exe') as driver:\n",
    "    wait = WebDriverWait(driver,15)\n",
    "    driver.get(url)\n",
    "\n",
    "    for item in range(20): \n",
    "        wait.until(EC.visibility_of_element_located((By.TAG_NAME, \"body\"))).send_keys(Keys.END)\n",
    "        time.sleep(15)\n",
    "\n",
    "    for comment in wait.until(EC.presence_of_all_elements_located((By.CSS_SELECTOR, \"#content\"))):\n",
    "        data.append(comment.text)"
   ]
  },
  {
   "cell_type": "code",
   "execution_count": 4,
   "metadata": {},
   "outputs": [],
   "source": [
    "comment_df = pd.DataFrame(data, columns=['comment'])\n",
    "comment_df = comment_df.drop(comment_df.index[0])"
   ]
  },
  {
   "cell_type": "code",
   "execution_count": 5,
   "metadata": {},
   "outputs": [],
   "source": [
    "def sample_classify_text(text_content):\n",
    "    try:\n",
    "        client = language_v1.LanguageServiceClient()\n",
    "\n",
    "        type_ = language_v1.Document.Type.PLAIN_TEXT\n",
    "\n",
    "        language = \"en\"\n",
    "        document = {\"content\": text_content, \"type_\": type_, \"language\": language}\n",
    "\n",
    "        response = client.classify_text(request = {'document': document})\n",
    "\n",
    "        for category in response.categories:\n",
    "            print(u\"Category name: {}\".format(category.name))\n",
    "            print(u\"Confidence: {}\".format(category.confidence))\n",
    "\n",
    "        return category.name\n",
    "    except:\n",
    "        return \"Less Relevant\""
   ]
  },
  {
   "cell_type": "code",
   "execution_count": 6,
   "metadata": {},
   "outputs": [],
   "source": [
    "def repeat_until_twenty(comment):\n",
    "    if (len(comment.split()) > 24):\n",
    "        return comment\n",
    "    else:\n",
    "        while (len(comment.split()) < 25):\n",
    "            comment = comment + ' ' + comment\n",
    "    return comment"
   ]
  },
  {
   "cell_type": "code",
   "execution_count": 7,
   "metadata": {},
   "outputs": [],
   "source": [
    "comment_df['comment'] = comment_df['comment'].astype(str)\n",
    "comment_df['comment'].replace('', np.nan, inplace=True)\n",
    "comment_df = comment_df.dropna()\n",
    "comment_df['rep_comment'] = comment_df['comment'].apply(lambda x: repeat_until_twenty(x))"
   ]
  },
  {
   "cell_type": "code",
   "execution_count": 8,
   "metadata": {},
   "outputs": [],
   "source": [
    "num_splits = round(len(comment_df)/500)+1\n",
    "df_list = np.array_split(comment_df,num_splits)"
   ]
  },
  {
   "cell_type": "code",
   "execution_count": 9,
   "metadata": {},
   "outputs": [],
   "source": [
    "os.environ[\"GOOGLE_APPLICATION_CREDENTIALS\"]=r\"C:\\Users\\mazon\\jupyter-projects\\personal-302809-c46a155d3fdf.json\""
   ]
  },
  {
   "cell_type": "code",
   "execution_count": 10,
   "metadata": {},
   "outputs": [
    {
     "name": "stdout",
     "output_type": "stream",
     "text": [
      "Category name: /Arts & Entertainment\n",
      "Confidence: 0.5899999737739563\n",
      "Category name: /Arts & Entertainment\n",
      "Confidence: 0.800000011920929\n",
      "Category name: /Arts & Entertainment\n",
      "Confidence: 0.6399999856948853\n",
      "Category name: /Arts & Entertainment\n",
      "Confidence: 0.5899999737739563\n",
      "Category name: /Arts & Entertainment\n",
      "Confidence: 0.699999988079071\n",
      "Category name: /Arts & Entertainment\n",
      "Confidence: 0.5699999928474426\n",
      "Category name: /Arts & Entertainment\n",
      "Confidence: 0.5199999809265137\n",
      "Category name: /Food & Drink\n",
      "Confidence: 0.6100000143051147\n",
      "Category name: /Food & Drink/Food\n",
      "Confidence: 0.5600000023841858\n",
      "Category name: /Arts & Entertainment\n",
      "Confidence: 0.5099999904632568\n",
      "Category name: /Arts & Entertainment\n",
      "Confidence: 0.6000000238418579\n",
      "Category name: /Arts & Entertainment\n",
      "Confidence: 0.8199999928474426\n",
      "Category name: /News\n",
      "Confidence: 0.5199999809265137\n",
      "Category name: /Arts & Entertainment\n",
      "Confidence: 0.9300000071525574\n",
      "Category name: /Arts & Entertainment\n",
      "Confidence: 0.5899999737739563\n",
      "Category name: /Arts & Entertainment\n",
      "Confidence: 0.5099999904632568\n",
      "Category name: /Arts & Entertainment\n",
      "Confidence: 0.5299999713897705\n",
      "Category name: /Arts & Entertainment/Humor\n",
      "Confidence: 0.8899999856948853\n",
      "Category name: /Arts & Entertainment\n",
      "Confidence: 0.5\n",
      "Category name: /Arts & Entertainment\n",
      "Confidence: 0.5400000214576721\n",
      "Category name: /Arts & Entertainment\n",
      "Confidence: 0.6200000047683716\n",
      "Category name: /Food & Drink\n",
      "Confidence: 0.5799999833106995\n",
      "Category name: /Health\n",
      "Confidence: 0.800000011920929\n",
      "Category name: /Arts & Entertainment/Humor\n",
      "Confidence: 0.5099999904632568\n",
      "Category name: /Health\n",
      "Confidence: 0.5400000214576721\n",
      "Category name: /News\n",
      "Confidence: 0.5400000214576721\n",
      "Category name: /Arts & Entertainment/Music & Audio\n",
      "Confidence: 0.8600000143051147\n",
      "Category name: /Arts & Entertainment/Online Media\n",
      "Confidence: 0.6600000262260437\n",
      "Category name: /Arts & Entertainment/Humor\n",
      "Confidence: 0.6100000143051147\n",
      "Category name: /Arts & Entertainment\n",
      "Confidence: 0.6899999976158142\n",
      "Category name: /Arts & Entertainment\n",
      "Confidence: 0.6000000238418579\n",
      "Category name: /Arts & Entertainment\n",
      "Confidence: 0.8399999737739563\n",
      "Category name: /People & Society\n",
      "Confidence: 0.5299999713897705\n",
      "Category name: /Arts & Entertainment\n",
      "Confidence: 0.7599999904632568\n",
      "Category name: /Arts & Entertainment\n",
      "Confidence: 0.7099999785423279\n",
      "Category name: /People & Society/Religion & Belief\n",
      "Confidence: 0.7200000286102295\n",
      "Category name: /Arts & Entertainment\n",
      "Confidence: 0.5299999713897705\n",
      "Category name: /Arts & Entertainment/Humor\n",
      "Confidence: 0.7200000286102295\n",
      "Category name: /Arts & Entertainment\n",
      "Confidence: 0.6600000262260437\n",
      "Category name: /Arts & Entertainment\n",
      "Confidence: 0.6200000047683716\n",
      "Category name: /Arts & Entertainment\n",
      "Confidence: 0.6600000262260437\n",
      "Category name: /Arts & Entertainment\n",
      "Confidence: 0.7099999785423279\n",
      "Category name: /Sensitive Subjects\n",
      "Confidence: 0.550000011920929\n",
      "Category name: /People & Society/Social Issues & Advocacy\n",
      "Confidence: 0.6100000143051147\n",
      "Category name: /Arts & Entertainment\n",
      "Confidence: 0.800000011920929\n",
      "Category name: /Food & Drink\n",
      "Confidence: 0.6200000047683716\n",
      "Category name: /Travel\n",
      "Confidence: 0.8899999856948853\n",
      "Category name: /Food & Drink/Restaurants\n",
      "Confidence: 0.5400000214576721\n",
      "Category name: /Arts & Entertainment\n",
      "Confidence: 0.7300000190734863\n",
      "Category name: /Arts & Entertainment\n",
      "Confidence: 0.7900000214576721\n",
      "Category name: /Arts & Entertainment\n",
      "Confidence: 0.75\n",
      "Category name: /Arts & Entertainment/Humor\n",
      "Confidence: 0.5799999833106995\n",
      "Category name: /Arts & Entertainment/Music & Audio\n",
      "Confidence: 0.6000000238418579\n",
      "Category name: /Arts & Entertainment\n",
      "Confidence: 0.5899999737739563\n",
      "Category name: /Sports\n",
      "Confidence: 0.6399999856948853\n",
      "Category name: /Arts & Entertainment\n",
      "Confidence: 0.6100000143051147\n",
      "Category name: /Arts & Entertainment\n",
      "Confidence: 0.6399999856948853\n",
      "Category name: /Arts & Entertainment\n",
      "Confidence: 0.6200000047683716\n",
      "Category name: /Arts & Entertainment\n",
      "Confidence: 0.75\n",
      "Category name: /Arts & Entertainment\n",
      "Confidence: 0.5199999809265137\n",
      "Category name: /Arts & Entertainment\n",
      "Confidence: 0.6200000047683716\n",
      "Category name: /Arts & Entertainment\n",
      "Confidence: 0.6100000143051147\n",
      "Category name: /Arts & Entertainment\n",
      "Confidence: 0.9100000262260437\n",
      "Category name: /Arts & Entertainment\n",
      "Confidence: 0.6800000071525574\n",
      "Category name: /Arts & Entertainment\n",
      "Confidence: 0.6600000262260437\n",
      "Category name: /Hobbies & Leisure\n",
      "Confidence: 0.5099999904632568\n",
      "Category name: /Arts & Entertainment\n",
      "Confidence: 0.5299999713897705\n",
      "Category name: /Arts & Entertainment/Humor\n",
      "Confidence: 0.8500000238418579\n",
      "Category name: /Food & Drink/Cooking & Recipes\n",
      "Confidence: 0.5299999713897705\n"
     ]
    }
   ],
   "source": [
    "for df in df_list:\n",
    "    df['classification'] = df['comment'].apply(lambda x: sample_classify_text(x))\n",
    "    time.sleep(60)"
   ]
  },
  {
   "cell_type": "code",
   "execution_count": 11,
   "metadata": {},
   "outputs": [],
   "source": [
    "final_df = pd.concat(df_list)"
   ]
  },
  {
   "cell_type": "code",
   "execution_count": 12,
   "metadata": {},
   "outputs": [
    {
     "name": "stderr",
     "output_type": "stream",
     "text": [
      "<ipython-input-12-fe74e6e0f787>:1: FutureWarning: Passing a negative integer is deprecated in version 1.0 and will not be supported in future version. Instead, use None to not limit the column width.\n",
      "  pd.set_option('display.max_colwidth', -1)\n"
     ]
    }
   ],
   "source": [
    "pd.set_option('display.max_colwidth', -1)\n",
    "pd.set_option('display.max_rows', None)  "
   ]
  },
  {
   "cell_type": "code",
   "execution_count": 17,
   "metadata": {},
   "outputs": [],
   "source": [
    "final_df = final_df.drop(columns = ['rep_comment'])"
   ]
  },
  {
   "cell_type": "code",
   "execution_count": 20,
   "metadata": {},
   "outputs": [
    {
     "data": {
      "text/html": [
       "<div>\n",
       "<style scoped>\n",
       "    .dataframe tbody tr th:only-of-type {\n",
       "        vertical-align: middle;\n",
       "    }\n",
       "\n",
       "    .dataframe tbody tr th {\n",
       "        vertical-align: top;\n",
       "    }\n",
       "\n",
       "    .dataframe thead th {\n",
       "        text-align: right;\n",
       "    }\n",
       "</style>\n",
       "<table border=\"1\" class=\"dataframe\">\n",
       "  <thead>\n",
       "    <tr style=\"text-align: right;\">\n",
       "      <th></th>\n",
       "      <th>comment</th>\n",
       "      <th>classification</th>\n",
       "    </tr>\n",
       "  </thead>\n",
       "  <tbody>\n",
       "    <tr>\n",
       "      <th>1</th>\n",
       "      <td>Taken from MMA Show #84 w/Brendan Schaub: \\nhttps://youtu.be/Frw-IBgu-Qw</td>\n",
       "      <td>failed</td>\n",
       "    </tr>\n",
       "    <tr>\n",
       "      <th>2</th>\n",
       "      <td>Sean: \"come on hots ones\"\\nJoe: \"no\"\\nSean: \"apparently fear is a factor for you\"</td>\n",
       "      <td>/Arts &amp; Entertainment</td>\n",
       "    </tr>\n",
       "    <tr>\n",
       "      <th>3</th>\n",
       "      <td>Hot ones interviewer is funny and doesn’t ask stupid repeatable questions. He’s does his homework. Rogan needs to get him on. That’d \\nbe killer.</td>\n",
       "      <td>/Arts &amp; Entertainment</td>\n",
       "    </tr>\n",
       "    <tr>\n",
       "      <th>4</th>\n",
       "      <td>Brendan: \"I love Wings\"\\nJoe: \"Wings are overrated\"\\nBrendan: \"100%\"</td>\n",
       "      <td>failed</td>\n",
       "    </tr>\n",
       "    <tr>\n",
       "      <th>5</th>\n",
       "      <td>If Sean Evans would let Joe put hot sauce on Elk loin he'd be there tomorrow.</td>\n",
       "      <td>failed</td>\n",
       "    </tr>\n",
       "  </tbody>\n",
       "</table>\n",
       "</div>"
      ],
      "text/plain": [
       "                                                                                                                                             comment  \\\n",
       "1  Taken from MMA Show #84 w/Brendan Schaub: \\nhttps://youtu.be/Frw-IBgu-Qw                                                                            \n",
       "2  Sean: \"come on hots ones\"\\nJoe: \"no\"\\nSean: \"apparently fear is a factor for you\"                                                                   \n",
       "3  Hot ones interviewer is funny and doesn’t ask stupid repeatable questions. He’s does his homework. Rogan needs to get him on. That’d \\nbe killer.   \n",
       "4  Brendan: \"I love Wings\"\\nJoe: \"Wings are overrated\"\\nBrendan: \"100%\"                                                                                \n",
       "5  If Sean Evans would let Joe put hot sauce on Elk loin he'd be there tomorrow.                                                                       \n",
       "\n",
       "          classification  \n",
       "1  failed                 \n",
       "2  /Arts & Entertainment  \n",
       "3  /Arts & Entertainment  \n",
       "4  failed                 \n",
       "5  failed                 "
      ]
     },
     "execution_count": 20,
     "metadata": {},
     "output_type": "execute_result"
    }
   ],
   "source": [
    "final_df.head()"
   ]
  },
  {
   "cell_type": "code",
   "execution_count": 18,
   "metadata": {},
   "outputs": [],
   "source": [
    "final_df.to_json(\"test.json\")"
   ]
  }
 ],
 "metadata": {
  "kernelspec": {
   "display_name": "Python 3",
   "language": "python",
   "name": "python3"
  },
  "language_info": {
   "codemirror_mode": {
    "name": "ipython",
    "version": 3
   },
   "file_extension": ".py",
   "mimetype": "text/x-python",
   "name": "python",
   "nbconvert_exporter": "python",
   "pygments_lexer": "ipython3",
   "version": "3.8.5"
  }
 },
 "nbformat": 4,
 "nbformat_minor": 4
}
