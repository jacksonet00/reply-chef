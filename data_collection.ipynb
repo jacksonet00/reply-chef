{
 "metadata": {
  "language_info": {
   "codemirror_mode": {
    "name": "ipython",
    "version": 3
   },
   "file_extension": ".py",
   "mimetype": "text/x-python",
   "name": "python",
   "nbconvert_exporter": "python",
   "pygments_lexer": "ipython3",
   "version": "3.8.5-final"
  },
  "orig_nbformat": 2,
  "kernelspec": {
   "name": "python3",
   "display_name": "Python 3",
   "language": "python"
  }
 },
 "nbformat": 4,
 "nbformat_minor": 2,
 "cells": [
  {
   "source": [
    "## Import Dependancies"
   ],
   "cell_type": "markdown",
   "metadata": {}
  },
  {
   "cell_type": "code",
   "execution_count": 24,
   "metadata": {},
   "outputs": [],
   "source": [
    "import time\n",
    "from selenium.webdriver import Chrome\n",
    "from selenium.webdriver.common.by import By\n",
    "from selenium.webdriver.common.keys import Keys\n",
    "from selenium.webdriver.support.ui import WebDriverWait\n",
    "from selenium.webdriver.support import expected_conditions as EC\n",
    "import os"
   ]
  },
  {
   "cell_type": "code",
   "execution_count": 53,
   "metadata": {},
   "outputs": [],
   "source": [
    "data=[]\n",
    "\n",
    "with Chrome(executable_path=os.path.join(\"./chromedriver\")) as driver:\n",
    "    wait = WebDriverWait(driver,15)\n",
    "    driver.get(\"https://www.youtube.com/watch?v=rVZRLbOy4ZQ\")\n",
    "\n",
    "    for item in range(100): \n",
    "        wait.until(EC.visibility_of_element_located((By.TAG_NAME, \"body\"))).send_keys(Keys.END)\n",
    "        time.sleep(10)\n",
    "\n",
    "    for comment in wait.until(EC.presence_of_all_elements_located((By.CSS_SELECTOR, \"#content\"))):\n",
    "        data.append(comment.text)"
   ]
  },
  {
   "cell_type": "code",
   "execution_count": 54,
   "metadata": {},
   "outputs": [
    {
     "output_type": "execute_result",
     "data": {
      "text/plain": [
       "                                               comment\n",
       "178           She is so pretty! I love the ice method!\n",
       "179  Her lashes are so long. And her skin is amazin...\n",
       "180  She loves those products so much that she call...\n",
       "181  nobody:\\nmadelaine: beeing naturally beautiful...\n",
       "182                                                   "
      ],
      "text/html": "<div>\n<style scoped>\n    .dataframe tbody tr th:only-of-type {\n        vertical-align: middle;\n    }\n\n    .dataframe tbody tr th {\n        vertical-align: top;\n    }\n\n    .dataframe thead th {\n        text-align: right;\n    }\n</style>\n<table border=\"1\" class=\"dataframe\">\n  <thead>\n    <tr style=\"text-align: right;\">\n      <th></th>\n      <th>comment</th>\n    </tr>\n  </thead>\n  <tbody>\n    <tr>\n      <th>178</th>\n      <td>She is so pretty! I love the ice method!</td>\n    </tr>\n    <tr>\n      <th>179</th>\n      <td>Her lashes are so long. And her skin is amazin...</td>\n    </tr>\n    <tr>\n      <th>180</th>\n      <td>She loves those products so much that she call...</td>\n    </tr>\n    <tr>\n      <th>181</th>\n      <td>nobody:\\nmadelaine: beeing naturally beautiful...</td>\n    </tr>\n    <tr>\n      <th>182</th>\n      <td></td>\n    </tr>\n  </tbody>\n</table>\n</div>"
     },
     "metadata": {},
     "execution_count": 54
    }
   ],
   "source": [
    "import pandas as pd   \n",
    "df = pd.DataFrame(data, columns=['comment'])\n",
    "\n",
    "df.tail()\n"
   ]
  },
  {
   "cell_type": "code",
   "execution_count": 55,
   "metadata": {},
   "outputs": [],
   "source": [
    "beauty_data = df.to_csv('beauty_ty_comments.csv', index = True)"
   ]
  },
  {
   "cell_type": "code",
   "execution_count": 56,
   "metadata": {},
   "outputs": [],
   "source": [
    "df_1 = pd.read_csv('./beauty_ty_comments_dataset.csv')\n",
    "df_2 = pd.read_csv('./beauty_ty_comments.csv')\n",
    "\n",
    "\n",
    "frames = [df_1, df_2]\n",
    "\n",
    "df = pd.concat(frames, sort = False)"
   ]
  },
  {
   "cell_type": "code",
   "execution_count": 57,
   "metadata": {},
   "outputs": [
    {
     "output_type": "execute_result",
     "data": {
      "text/plain": [
       "     Unnamed: 0  Unnamed: 0.1  Unnamed: 0.1.1  \\\n",
       "178         178           NaN             NaN   \n",
       "179         179           NaN             NaN   \n",
       "180         180           NaN             NaN   \n",
       "181         181           NaN             NaN   \n",
       "182         182           NaN             NaN   \n",
       "\n",
       "                                               comment  \n",
       "178           She is so pretty! I love the ice method!  \n",
       "179  Her lashes are so long. And her skin is amazin...  \n",
       "180  She loves those products so much that she call...  \n",
       "181  nobody:\\nmadelaine: beeing naturally beautiful...  \n",
       "182                                                NaN  "
      ],
      "text/html": "<div>\n<style scoped>\n    .dataframe tbody tr th:only-of-type {\n        vertical-align: middle;\n    }\n\n    .dataframe tbody tr th {\n        vertical-align: top;\n    }\n\n    .dataframe thead th {\n        text-align: right;\n    }\n</style>\n<table border=\"1\" class=\"dataframe\">\n  <thead>\n    <tr style=\"text-align: right;\">\n      <th></th>\n      <th>Unnamed: 0</th>\n      <th>Unnamed: 0.1</th>\n      <th>Unnamed: 0.1.1</th>\n      <th>comment</th>\n    </tr>\n  </thead>\n  <tbody>\n    <tr>\n      <th>178</th>\n      <td>178</td>\n      <td>NaN</td>\n      <td>NaN</td>\n      <td>She is so pretty! I love the ice method!</td>\n    </tr>\n    <tr>\n      <th>179</th>\n      <td>179</td>\n      <td>NaN</td>\n      <td>NaN</td>\n      <td>Her lashes are so long. And her skin is amazin...</td>\n    </tr>\n    <tr>\n      <th>180</th>\n      <td>180</td>\n      <td>NaN</td>\n      <td>NaN</td>\n      <td>She loves those products so much that she call...</td>\n    </tr>\n    <tr>\n      <th>181</th>\n      <td>181</td>\n      <td>NaN</td>\n      <td>NaN</td>\n      <td>nobody:\\nmadelaine: beeing naturally beautiful...</td>\n    </tr>\n    <tr>\n      <th>182</th>\n      <td>182</td>\n      <td>NaN</td>\n      <td>NaN</td>\n      <td>NaN</td>\n    </tr>\n  </tbody>\n</table>\n</div>"
     },
     "metadata": {},
     "execution_count": 57
    }
   ],
   "source": [
    "df.tail()\n"
   ]
  },
  {
   "cell_type": "code",
   "execution_count": 58,
   "metadata": {},
   "outputs": [],
   "source": [
    "beauty_data = df.to_csv('beauty_ty_comments_dataset.csv', index = True) "
   ]
  },
  {
   "cell_type": "code",
   "execution_count": null,
   "metadata": {},
   "outputs": [],
   "source": []
  }
 ]
}